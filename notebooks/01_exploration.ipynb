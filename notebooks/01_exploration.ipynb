{
 "cells": [
  {
   "cell_type": "code",
   "execution_count": null,
   "id": "7f03be1d",
   "metadata": {},
   "outputs": [],
   "source": [
    "# notebooks/01_exploration.ipynb\n",
    "\n",
    "import pandas as pd\n",
    "import matplotlib.pyplot as plt\n",
    "import seaborn as sns\n",
    "from auto_ml_pkg.data import fetch_prices\n",
    "\n",
    "# --- Load sample data ---\n",
    "tickers = [\"TSLA\", \"F\", \"GM\", \"TM\", \"BMW.DE\", \"RNO.PA\", \"STLA\", \"HMC\"]\n",
    "prices = fetch_prices(tickers, \"2016-01-01\", \"2025-09-30\")\n",
    "\n",
    "print(\"Shape:\", prices.shape)\n",
    "prices.head()\n",
    "\n",
    "# --- Plot prices ---\n",
    "plt.figure(figsize=(10,5))\n",
    "for t in tickers:\n",
    "    plt.plot(prices.index, prices[t]/prices[t].iloc[0]*100, label=t)\n",
    "plt.title(\"Normalized stock prices (2016–2025)\")\n",
    "plt.legend()\n",
    "plt.show()\n",
    "\n",
    "# --- Correlation heatmap ---\n",
    "returns = prices.pct_change().dropna()\n",
    "corr = returns.corr()\n",
    "sns.heatmap(corr, annot=True, cmap=\"coolwarm\")\n",
    "plt.title(\"Daily return correlation between automakers\")\n",
    "plt.show()"
   ]
  },
  {
   "cell_type": "markdown",
   "id": "3a1fa8fa",
   "metadata": {},
   "source": []
  },
  {
   "cell_type": "code",
   "execution_count": null,
   "id": "2a1c6392",
   "metadata": {},
   "outputs": [],
   "source": []
  }
 ],
 "metadata": {
  "kernelspec": {
   "display_name": "dsap",
   "language": "python",
   "name": "python3"
  },
  "language_info": {
   "name": "python",
   "version": "3.10.19"
  }
 },
 "nbformat": 4,
 "nbformat_minor": 5
}
