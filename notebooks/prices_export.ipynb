{
 "cells": [
  {
   "cell_type": "code",
   "execution_count": 1,
   "id": "b7dfe65c",
   "metadata": {},
   "outputs": [],
   "source": [
    "from auto_ml_pkg.data import fetch_prices\n",
    "prices = fetch_prices([\"TSLA\", \"F\", \"GM\", \"TM\"], \"2016-01-01\", \"2025-09-30\")\n",
    "prices.to_csv(\"data/raw/car_prices.csv\")"
   ]
  }
 ],
 "metadata": {
  "kernelspec": {
   "display_name": "dsap",
   "language": "python",
   "name": "python3"
  },
  "language_info": {
   "codemirror_mode": {
    "name": "ipython",
    "version": 3
   },
   "file_extension": ".py",
   "mimetype": "text/x-python",
   "name": "python",
   "nbconvert_exporter": "python",
   "pygments_lexer": "ipython3",
   "version": "3.10.19"
  }
 },
 "nbformat": 4,
 "nbformat_minor": 5
}
